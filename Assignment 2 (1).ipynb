{
 "cells": [
  {
   "cell_type": "code",
   "execution_count": 1,
   "id": "4a92b9dc-a34c-473a-8f79-12d39bb6d34b",
   "metadata": {},
   "outputs": [],
   "source": [
    "#Question 1"
   ]
  },
  {
   "cell_type": "code",
   "execution_count": 2,
   "id": "058f3347-8fa6-40b9-a014-5fee2827a84d",
   "metadata": {},
   "outputs": [
    {
     "data": {
      "text/plain": [
       "'We can comment a code with using # and we have twotype of comments single line comment which can be done by using #\\nand multiline comment which can be made by triple single or double quote.'"
      ]
     },
     "execution_count": 2,
     "metadata": {},
     "output_type": "execute_result"
    }
   ],
   "source": [
    "'''We can comment a code with using # and we have twotype of comments single line comment which can be done by using #\n",
    "and multiline comment which can be made by triple single or double quote.'''"
   ]
  },
  {
   "cell_type": "code",
   "execution_count": 3,
   "id": "26b232c1-de3a-40ab-b998-fd7db2000dc0",
   "metadata": {},
   "outputs": [],
   "source": [
    "#Question 2"
   ]
  },
  {
   "cell_type": "code",
   "execution_count": 4,
   "id": "5021f932-1e2f-4635-8804-95b38bac7db3",
   "metadata": {},
   "outputs": [
    {
     "data": {
      "text/plain": [
       "\"Declaring and assigning values to variables in Python is straightforward. \\nWe don't need to specify the data type explicitly as Python is dynamically typed, \\nmeaning the type of the variable is determined based on the value it holds.\\n\\nTo declare and assign a value to a variable, we simply write the variable name, followed by the assignment operator (=), \\nand then the value we want to store. Here's the basic syntax:\\nvariable_name = value\""
      ]
     },
     "execution_count": 4,
     "metadata": {},
     "output_type": "execute_result"
    }
   ],
   "source": [
    "'''In Python, variables are used to store data values and give them a name for easy reference. \n",
    "A variable is essentially a name that refers to a memory location where the data is stored.\n",
    "We can think of a variable as a container that holds a value.'''\n",
    "'''Declaring and assigning values to variables in Python is straightforward. \n",
    "We don't need to specify the data type explicitly as Python is dynamically typed, \n",
    "meaning the type of the variable is determined based on the value it holds.\n",
    "\n",
    "To declare and assign a value to a variable, we simply write the variable name, followed by the assignment operator (=), \n",
    "and then the value we want to store. Here's the basic syntax:\n",
    "variable_name = value'''"
   ]
  },
  {
   "cell_type": "code",
   "execution_count": 5,
   "id": "31e74962-b65f-4a89-8518-e60048aa3083",
   "metadata": {},
   "outputs": [],
   "source": [
    "#Question 3"
   ]
  },
  {
   "cell_type": "code",
   "execution_count": 6,
   "id": "87f268e1-fc69-41a1-9753-94f573c440cb",
   "metadata": {},
   "outputs": [],
   "source": [
    "a = 9"
   ]
  },
  {
   "cell_type": "code",
   "execution_count": 7,
   "id": "1262db89-d4be-41fe-8396-b6c9ad31f3ee",
   "metadata": {},
   "outputs": [
    {
     "name": "stdout",
     "output_type": "stream",
     "text": [
      "9\n"
     ]
    }
   ],
   "source": [
    "print(a)"
   ]
  },
  {
   "cell_type": "code",
   "execution_count": 8,
   "id": "95501be3-b28e-4249-906e-b30bc71d0144",
   "metadata": {},
   "outputs": [
    {
     "data": {
      "text/plain": [
       "'9'"
      ]
     },
     "execution_count": 8,
     "metadata": {},
     "output_type": "execute_result"
    }
   ],
   "source": [
    "str(a)   #conversion of one data type to another"
   ]
  },
  {
   "cell_type": "code",
   "execution_count": 9,
   "id": "d9d367e4-2313-46c0-9906-eac1149c4e81",
   "metadata": {},
   "outputs": [],
   "source": [
    "#Question 4"
   ]
  },
  {
   "cell_type": "code",
   "execution_count": 10,
   "id": "4a2c8e03-ebdb-4cbc-9dde-39b718f3d464",
   "metadata": {},
   "outputs": [
    {
     "data": {
      "text/plain": [
       "' 1. Open the jupitor notebook \\n2. write the python code for our script in the text editor and save it with a .py extension.\\n3. Open coomand prompt in windows.\\n4. Navigate to the directory. Use ed to navigate to dire4ctory where we saved our script.\\n5. Execute the python script.\\n   Done.!!!! '"
      ]
     },
     "execution_count": 10,
     "metadata": {},
     "output_type": "execute_result"
    }
   ],
   "source": [
    "\"\"\" 1. Open the jupitor notebook \n",
    "2. write the python code for our script in the text editor and save it with a .py extension.\n",
    "3. Open coomand prompt in windows.\n",
    "4. Navigate to the directory. Use ed to navigate to dire4ctory where we saved our script.\n",
    "5. Execute the python script.\n",
    "   Done.!!!! \"\"\""
   ]
  },
  {
   "cell_type": "code",
   "execution_count": 11,
   "id": "ffeda4f0-6fbe-4563-9440-351e2a6367dd",
   "metadata": {},
   "outputs": [],
   "source": [
    "#Question 5"
   ]
  },
  {
   "cell_type": "code",
   "execution_count": 12,
   "id": "34058f18-0ad3-46eb-823f-4206968f968d",
   "metadata": {},
   "outputs": [],
   "source": [
    "my_list = [1, 2, 3, 4, 5]"
   ]
  },
  {
   "cell_type": "code",
   "execution_count": 13,
   "id": "0a7a111b-d9fe-4297-89d9-2022a8a57260",
   "metadata": {},
   "outputs": [
    {
     "data": {
      "text/plain": [
       "[2, 3]"
      ]
     },
     "execution_count": 13,
     "metadata": {},
     "output_type": "execute_result"
    }
   ],
   "source": [
    "my_list[1:3]"
   ]
  },
  {
   "cell_type": "code",
   "execution_count": 14,
   "id": "c3f02857-c5c7-4ebf-8167-bb4615fdb731",
   "metadata": {},
   "outputs": [],
   "source": [
    "#Question 6"
   ]
  },
  {
   "cell_type": "code",
   "execution_count": 17,
   "id": "2c8c9366-62fe-455d-8fb8-756174c25fb8",
   "metadata": {},
   "outputs": [
    {
     "name": "stdout",
     "output_type": "stream",
     "text": [
      "4+5j is a complex number in python\n"
     ]
    }
   ],
   "source": [
    "'''In mathematics, a complex number is a number that can be expressed in the form a + bi,\n",
    "where a and b are real numbers, and i is the imaginary unit, defined as the square root of -1. \n",
    "The imaginary unit i is a fundamental concept in complex numbers \n",
    "and plays a crucial role in various mathematical applications.'''\n",
    "\n",
    "print('4+5j is a complex number in python')\n"
   ]
  },
  {
   "cell_type": "code",
   "execution_count": 18,
   "id": "7ffa1a2a-1edc-4c21-b6d4-2d7accad34de",
   "metadata": {},
   "outputs": [],
   "source": [
    "#Question 7"
   ]
  },
  {
   "cell_type": "code",
   "execution_count": 19,
   "id": "906bbfaf-692a-49ed-946e-381a85b8270c",
   "metadata": {},
   "outputs": [
    {
     "data": {
      "text/plain": [
       "'In Python, the correct way to declare a variable named age and assign the value 25 to it is as follows:'"
      ]
     },
     "execution_count": 19,
     "metadata": {},
     "output_type": "execute_result"
    }
   ],
   "source": [
    "'''In Python, the correct way to declare a variable named age and assign the value 25 to it is as follows:'''\n"
   ]
  },
  {
   "cell_type": "code",
   "execution_count": 20,
   "id": "f7aa3731-1d91-496a-8d32-74b50f5aecc9",
   "metadata": {},
   "outputs": [],
   "source": [
    "age = 25"
   ]
  },
  {
   "cell_type": "code",
   "execution_count": 21,
   "id": "7111b0b5-7740-4b8d-91e5-349c843c9834",
   "metadata": {},
   "outputs": [
    {
     "data": {
      "text/plain": [
       "\"In this line of code, age is the variable name, and 25 is the value being assigned to it. \\nPython automatically determines the data type of the variable based on the value assigned to it, \\nso we don't need to explicitly specify the type.\""
      ]
     },
     "execution_count": 21,
     "metadata": {},
     "output_type": "execute_result"
    }
   ],
   "source": [
    "'''In this line of code, age is the variable name, and 25 is the value being assigned to it. \n",
    "Python automatically determines the data type of the variable based on the value assigned to it, \n",
    "so we don't need to explicitly specify the type.'''"
   ]
  },
  {
   "cell_type": "code",
   "execution_count": 22,
   "id": "841fc779-88bd-4061-99bc-24e94949e186",
   "metadata": {},
   "outputs": [],
   "source": [
    "#Question 8"
   ]
  },
  {
   "cell_type": "code",
   "execution_count": 23,
   "id": "f55c00fd-5725-4d80-8741-cf5af3846f5b",
   "metadata": {},
   "outputs": [],
   "source": [
    "price = 9.99"
   ]
  },
  {
   "cell_type": "code",
   "execution_count": 24,
   "id": "456ebb60-b09f-43af-9ab2-39037d7db3c4",
   "metadata": {},
   "outputs": [
    {
     "data": {
      "text/plain": [
       "float"
      ]
     },
     "execution_count": 24,
     "metadata": {},
     "output_type": "execute_result"
    }
   ],
   "source": [
    "type(price)"
   ]
  },
  {
   "cell_type": "code",
   "execution_count": 25,
   "id": "14c58878-63c3-4f93-b8be-12037f4612b1",
   "metadata": {},
   "outputs": [],
   "source": [
    "#Question 9"
   ]
  },
  {
   "cell_type": "code",
   "execution_count": 26,
   "id": "ae25337c-8aa2-4f9f-990e-1076150813e7",
   "metadata": {},
   "outputs": [],
   "source": [
    "name = \"Deepanshu Singhal\""
   ]
  },
  {
   "cell_type": "code",
   "execution_count": 27,
   "id": "a9086442-9779-41e4-88a9-550bb7439e69",
   "metadata": {},
   "outputs": [
    {
     "name": "stdout",
     "output_type": "stream",
     "text": [
      "Deepanshu Singhal\n"
     ]
    }
   ],
   "source": [
    "print(name)"
   ]
  },
  {
   "cell_type": "code",
   "execution_count": 28,
   "id": "68773b75-831d-4566-a8da-80f60eaf16d2",
   "metadata": {},
   "outputs": [],
   "source": [
    "#Question 10"
   ]
  },
  {
   "cell_type": "code",
   "execution_count": 37,
   "id": "be05cf52-aad5-4cb8-a59e-0e37ae35d2f6",
   "metadata": {},
   "outputs": [],
   "source": [
    "str1 = 'Hello, World!'"
   ]
  },
  {
   "cell_type": "code",
   "execution_count": 38,
   "id": "60bf12d4-9804-41db-9612-db8d63d1f96f",
   "metadata": {},
   "outputs": [
    {
     "name": "stdout",
     "output_type": "stream",
     "text": [
      "Hello, World!\n"
     ]
    }
   ],
   "source": [
    "print(str1)"
   ]
  },
  {
   "cell_type": "code",
   "execution_count": 39,
   "id": "5adcb041-59ca-4585-bc8f-bf16dee7c96f",
   "metadata": {},
   "outputs": [
    {
     "data": {
      "text/plain": [
       "'World'"
      ]
     },
     "execution_count": 39,
     "metadata": {},
     "output_type": "execute_result"
    }
   ],
   "source": [
    "str1[7:12]"
   ]
  },
  {
   "cell_type": "code",
   "execution_count": 40,
   "id": "abed93a4-2957-4f15-9720-aa8dee093e52",
   "metadata": {},
   "outputs": [],
   "source": [
    "#Question 11"
   ]
  },
  {
   "cell_type": "code",
   "execution_count": 41,
   "id": "7df5d4d8-dee2-4822-a902-d49b6244bec3",
   "metadata": {},
   "outputs": [],
   "source": [
    "is_student = True"
   ]
  },
  {
   "cell_type": "code",
   "execution_count": 44,
   "id": "f74d40ae-3bd9-43ae-a1bb-41a0b42fd3a8",
   "metadata": {},
   "outputs": [
    {
     "name": "stdout",
     "output_type": "stream",
     "text": [
      "I am a student? True\n"
     ]
    }
   ],
   "source": [
    "print('I am a student?',  is_student)"
   ]
  },
  {
   "cell_type": "code",
   "execution_count": null,
   "id": "8f0483c7-174c-4de4-934c-d6959ecbc897",
   "metadata": {},
   "outputs": [],
   "source": []
  }
 ],
 "metadata": {
  "kernelspec": {
   "display_name": "Python 3 (ipykernel)",
   "language": "python",
   "name": "python3"
  },
  "language_info": {
   "codemirror_mode": {
    "name": "ipython",
    "version": 3
   },
   "file_extension": ".py",
   "mimetype": "text/x-python",
   "name": "python",
   "nbconvert_exporter": "python",
   "pygments_lexer": "ipython3",
   "version": "3.10.8"
  }
 },
 "nbformat": 4,
 "nbformat_minor": 5
}
